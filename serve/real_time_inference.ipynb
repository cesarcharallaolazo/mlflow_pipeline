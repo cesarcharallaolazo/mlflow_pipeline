{
 "cells": [
  {
   "cell_type": "code",
   "execution_count": 1,
   "id": "88ac00a9",
   "metadata": {},
   "outputs": [],
   "source": [
    "import requests"
   ]
  },
  {
   "cell_type": "code",
   "execution_count": 2,
   "id": "d461e9c6",
   "metadata": {},
   "outputs": [],
   "source": [
    "import json"
   ]
  },
  {
   "cell_type": "code",
   "execution_count": 3,
   "id": "2fe0be33",
   "metadata": {},
   "outputs": [
    {
     "name": "stdout",
     "output_type": "stream",
     "text": [
      "MLmodel            input_example.json python_env.yaml\r\n",
      "conda.yaml         model.pkl          requirements.txt\r\n"
     ]
    }
   ],
   "source": [
    "!ls ../model_export"
   ]
  },
  {
   "cell_type": "code",
   "execution_count": 4,
   "id": "9b49852d",
   "metadata": {},
   "outputs": [
    {
     "name": "stdout",
     "output_type": "stream",
     "text": [
      "{'columns': ['Unnamed: 0', 'Unnamed: 0.1', 'danceability', 'energy', 'key', 'loudness', 'mode', 'speechiness', 'acousticness', 'instrumentalness', 'liveness', 'valence', 'tempo', 'type', 'duration_ms', 'time_signature', 'song_name', 'title', 'text_feature'], 'data': [[7192, 7192, 0.903, 0.703, 0, -5.654, 1, 0.322, 0.0168, 0.0, 0.126, 0.8109999999999999, 137.977, 'audio_features', 226087, 4, 'BITTER (Feat. ZOTiYAC)', None, ' BITTER (Feat. ZOTiYAC)'], [16886, 16886, 0.285, 0.329, 8, -12.212, 1, 0.0446, 0.526, 0.0205, 0.158, 0.148, 159.409, 'audio_features', 376061, 3, 'SAVAGE ANTHEM', None, ' SAVAGE ANTHEM']]}\n"
     ]
    }
   ],
   "source": [
    "with open(\"../model_export/input_example.json\") as fp:\n",
    "    data = json.load(fp)\n",
    "print(data)"
   ]
  },
  {
   "cell_type": "code",
   "execution_count": 5,
   "id": "78093634",
   "metadata": {},
   "outputs": [],
   "source": [
    "results = requests.post(\"http://localhost:5000/invocations\", json=data)"
   ]
  },
  {
   "cell_type": "code",
   "execution_count": 6,
   "id": "8fe1d26d",
   "metadata": {},
   "outputs": [
    {
     "name": "stdout",
     "output_type": "stream",
     "text": [
      "<Response [200]>\n"
     ]
    }
   ],
   "source": [
    "print(results)"
   ]
  },
  {
   "cell_type": "code",
   "execution_count": 7,
   "id": "f86d3891",
   "metadata": {},
   "outputs": [
    {
     "name": "stdout",
     "output_type": "stream",
     "text": [
      "['Rap', 'Dark Trap']\n"
     ]
    }
   ],
   "source": [
    "print(results.json())"
   ]
  },
  {
   "cell_type": "code",
   "execution_count": null,
   "id": "22edb39d",
   "metadata": {},
   "outputs": [],
   "source": []
  },
  {
   "cell_type": "code",
   "execution_count": null,
   "id": "548dd6ac",
   "metadata": {},
   "outputs": [],
   "source": []
  }
 ],
 "metadata": {
  "kernelspec": {
   "display_name": "Python 3 (ipykernel)",
   "language": "python",
   "name": "python3"
  },
  "language_info": {
   "codemirror_mode": {
    "name": "ipython",
    "version": 3
   },
   "file_extension": ".py",
   "mimetype": "text/x-python",
   "name": "python",
   "nbconvert_exporter": "python",
   "pygments_lexer": "ipython3",
   "version": "3.8.13"
  }
 },
 "nbformat": 4,
 "nbformat_minor": 5
}
